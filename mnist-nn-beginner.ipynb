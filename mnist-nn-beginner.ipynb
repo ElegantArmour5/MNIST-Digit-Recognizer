{
 "cells": [
  {
   "cell_type": "code",
   "execution_count": 1,
   "id": "50ecde3f",
   "metadata": {
    "_cell_guid": "b1076dfc-b9ad-4769-8c92-a6c4dae69d19",
    "_uuid": "8f2839f25d086af736a60e9eeb907d3b93b6e0e5",
    "execution": {
     "iopub.execute_input": "2024-07-27T13:45:17.502643Z",
     "iopub.status.busy": "2024-07-27T13:45:17.502220Z",
     "iopub.status.idle": "2024-07-27T13:45:18.428123Z",
     "shell.execute_reply": "2024-07-27T13:45:18.426601Z"
    },
    "papermill": {
     "duration": 0.93773,
     "end_time": "2024-07-27T13:45:18.431465",
     "exception": false,
     "start_time": "2024-07-27T13:45:17.493735",
     "status": "completed"
    },
    "tags": []
   },
   "outputs": [
    {
     "name": "stdout",
     "output_type": "stream",
     "text": [
      "/kaggle/input/digit-recognizer/sample_submission.csv\n",
      "/kaggle/input/digit-recognizer/train.csv\n",
      "/kaggle/input/digit-recognizer/test.csv\n"
     ]
    }
   ],
   "source": [
    "# This Python 3 environment comes with many helpful analytics libraries installed\n",
    "# It is defined by the kaggle/python Docker image: https://github.com/kaggle/docker-python\n",
    "# For example, here's several helpful packages to load\n",
    "\n",
    "import numpy as np # linear algebra\n",
    "import pandas as pd # data processing, CSV file I/O (e.g. pd.read_csv)\n",
    "\n",
    "# Input data files are available in the read-only \"../input/\" directory\n",
    "# For example, running this (by clicking run or pressing Shift+Enter) will list all files under the input directory\n",
    "\n",
    "import os\n",
    "for dirname, _, filenames in os.walk('/kaggle/input'):\n",
    "    for filename in filenames:\n",
    "        print(os.path.join(dirname, filename))\n",
    "\n",
    "# You can write up to 20GB to the current directory (/kaggle/working/) that gets preserved as output when you create a version using \"Save & Run All\" \n",
    "# You can also write temporary files to /kaggle/temp/, but they won't be saved outside of the current session"
   ]
  },
  {
   "cell_type": "code",
   "execution_count": 2,
   "id": "16b33a85",
   "metadata": {
    "execution": {
     "iopub.execute_input": "2024-07-27T13:45:18.445613Z",
     "iopub.status.busy": "2024-07-27T13:45:18.445116Z",
     "iopub.status.idle": "2024-07-27T13:45:25.858299Z",
     "shell.execute_reply": "2024-07-27T13:45:25.857063Z"
    },
    "papermill": {
     "duration": 7.424007,
     "end_time": "2024-07-27T13:45:25.861883",
     "exception": false,
     "start_time": "2024-07-27T13:45:18.437876",
     "status": "completed"
    },
    "tags": []
   },
   "outputs": [],
   "source": [
    "train = pd.read_csv(\"/kaggle/input/digit-recognizer/train.csv\")\n",
    "test = pd.read_csv(\"/kaggle/input/digit-recognizer/test.csv\")\n",
    "sample_sub = pd.read_csv(\"/kaggle/input/digit-recognizer/sample_submission.csv\")"
   ]
  },
  {
   "cell_type": "code",
   "execution_count": 3,
   "id": "d13ec99f",
   "metadata": {
    "execution": {
     "iopub.execute_input": "2024-07-27T13:45:25.876550Z",
     "iopub.status.busy": "2024-07-27T13:45:25.876115Z",
     "iopub.status.idle": "2024-07-27T13:45:26.180238Z",
     "shell.execute_reply": "2024-07-27T13:45:26.178859Z"
    },
    "papermill": {
     "duration": 0.314837,
     "end_time": "2024-07-27T13:45:26.183061",
     "exception": false,
     "start_time": "2024-07-27T13:45:25.868224",
     "status": "completed"
    },
    "tags": []
   },
   "outputs": [],
   "source": [
    "x_train = train.drop(columns=['label'])\n",
    "y_train = train['label']\n",
    "\n",
    "x_train = x_train / 255.0\n",
    "test = test / 255.0\n",
    "\n",
    "x_train = x_train.values.reshape(-1, 28, 28, 1)\n",
    "test = test.values.reshape(-1, 28, 28, 1)"
   ]
  },
  {
   "cell_type": "code",
   "execution_count": 4,
   "id": "d9f6cecc",
   "metadata": {
    "execution": {
     "iopub.execute_input": "2024-07-27T13:45:26.197449Z",
     "iopub.status.busy": "2024-07-27T13:45:26.196440Z",
     "iopub.status.idle": "2024-07-27T13:45:41.959398Z",
     "shell.execute_reply": "2024-07-27T13:45:41.958045Z"
    },
    "papermill": {
     "duration": 15.773619,
     "end_time": "2024-07-27T13:45:41.962722",
     "exception": false,
     "start_time": "2024-07-27T13:45:26.189103",
     "status": "completed"
    },
    "tags": []
   },
   "outputs": [
    {
     "name": "stderr",
     "output_type": "stream",
     "text": [
      "2024-07-27 13:45:29.693330: E external/local_xla/xla/stream_executor/cuda/cuda_dnn.cc:9261] Unable to register cuDNN factory: Attempting to register factory for plugin cuDNN when one has already been registered\n",
      "2024-07-27 13:45:29.693498: E external/local_xla/xla/stream_executor/cuda/cuda_fft.cc:607] Unable to register cuFFT factory: Attempting to register factory for plugin cuFFT when one has already been registered\n",
      "2024-07-27 13:45:29.858437: E external/local_xla/xla/stream_executor/cuda/cuda_blas.cc:1515] Unable to register cuBLAS factory: Attempting to register factory for plugin cuBLAS when one has already been registered\n"
     ]
    }
   ],
   "source": [
    "from sklearn.model_selection import train_test_split\n",
    "from tensorflow.keras.models import Sequential\n",
    "from tensorflow.keras.layers import Conv2D, Dense, Flatten, MaxPooling2D\n",
    "from tensorflow.keras.callbacks import EarlyStopping"
   ]
  },
  {
   "cell_type": "code",
   "execution_count": 5,
   "id": "6d746f25",
   "metadata": {
    "execution": {
     "iopub.execute_input": "2024-07-27T13:45:41.978600Z",
     "iopub.status.busy": "2024-07-27T13:45:41.977092Z",
     "iopub.status.idle": "2024-07-27T13:45:42.640902Z",
     "shell.execute_reply": "2024-07-27T13:45:42.639288Z"
    },
    "papermill": {
     "duration": 0.674963,
     "end_time": "2024-07-27T13:45:42.644158",
     "exception": false,
     "start_time": "2024-07-27T13:45:41.969195",
     "status": "completed"
    },
    "tags": []
   },
   "outputs": [],
   "source": [
    "x_train, x_test, y_train, y_test = train_test_split(x_train, y_train, test_size = 0.2, random_state = 42)"
   ]
  },
  {
   "cell_type": "code",
   "execution_count": 6,
   "id": "19b9a294",
   "metadata": {
    "execution": {
     "iopub.execute_input": "2024-07-27T13:45:42.659694Z",
     "iopub.status.busy": "2024-07-27T13:45:42.659226Z",
     "iopub.status.idle": "2024-07-27T13:45:42.760929Z",
     "shell.execute_reply": "2024-07-27T13:45:42.759675Z"
    },
    "papermill": {
     "duration": 0.112798,
     "end_time": "2024-07-27T13:45:42.764078",
     "exception": false,
     "start_time": "2024-07-27T13:45:42.651280",
     "status": "completed"
    },
    "tags": []
   },
   "outputs": [
    {
     "name": "stderr",
     "output_type": "stream",
     "text": [
      "/opt/conda/lib/python3.10/site-packages/keras/src/layers/convolutional/base_conv.py:107: UserWarning: Do not pass an `input_shape`/`input_dim` argument to a layer. When using Sequential models, prefer using an `Input(shape)` object as the first layer in the model instead.\n",
      "  super().__init__(activity_regularizer=activity_regularizer, **kwargs)\n"
     ]
    }
   ],
   "source": [
    "model = Sequential([\n",
    "    Conv2D(32, (3,3), activation = 'relu', input_shape = (28, 28, 1)),\n",
    "    MaxPooling2D((2,2)),\n",
    "    Flatten(),\n",
    "    Dense(128, activation = 'relu'),\n",
    "    Dense(10, activation = 'softmax')\n",
    "])"
   ]
  },
  {
   "cell_type": "code",
   "execution_count": 7,
   "id": "30e110c6",
   "metadata": {
    "execution": {
     "iopub.execute_input": "2024-07-27T13:45:42.779754Z",
     "iopub.status.busy": "2024-07-27T13:45:42.778743Z",
     "iopub.status.idle": "2024-07-27T13:45:42.797120Z",
     "shell.execute_reply": "2024-07-27T13:45:42.795954Z"
    },
    "papermill": {
     "duration": 0.029228,
     "end_time": "2024-07-27T13:45:42.800074",
     "exception": false,
     "start_time": "2024-07-27T13:45:42.770846",
     "status": "completed"
    },
    "tags": []
   },
   "outputs": [],
   "source": [
    "model.compile(optimizer = 'adam', loss = 'sparse_categorical_crossentropy', metrics = ['accuracy'])"
   ]
  },
  {
   "cell_type": "code",
   "execution_count": 8,
   "id": "b23fbad8",
   "metadata": {
    "execution": {
     "iopub.execute_input": "2024-07-27T13:45:42.814539Z",
     "iopub.status.busy": "2024-07-27T13:45:42.814144Z",
     "iopub.status.idle": "2024-07-27T13:49:50.644365Z",
     "shell.execute_reply": "2024-07-27T13:49:50.643133Z"
    },
    "papermill": {
     "duration": 247.841133,
     "end_time": "2024-07-27T13:49:50.647532",
     "exception": false,
     "start_time": "2024-07-27T13:45:42.806399",
     "status": "completed"
    },
    "tags": []
   },
   "outputs": [
    {
     "name": "stdout",
     "output_type": "stream",
     "text": [
      "Epoch 1/15\n",
      "\u001b[1m1050/1050\u001b[0m \u001b[32m━━━━━━━━━━━━━━━━━━━━\u001b[0m\u001b[37m\u001b[0m \u001b[1m18s\u001b[0m 16ms/step - accuracy: 0.8830 - loss: 0.3911 - val_accuracy: 0.9719 - val_loss: 0.0885\n",
      "Epoch 2/15\n",
      "\u001b[1m1050/1050\u001b[0m \u001b[32m━━━━━━━━━━━━━━━━━━━━\u001b[0m\u001b[37m\u001b[0m \u001b[1m16s\u001b[0m 15ms/step - accuracy: 0.9805 - loss: 0.0648 - val_accuracy: 0.9786 - val_loss: 0.0681\n",
      "Epoch 3/15\n",
      "\u001b[1m1050/1050\u001b[0m \u001b[32m━━━━━━━━━━━━━━━━━━━━\u001b[0m\u001b[37m\u001b[0m \u001b[1m16s\u001b[0m 15ms/step - accuracy: 0.9880 - loss: 0.0398 - val_accuracy: 0.9799 - val_loss: 0.0591\n",
      "Epoch 4/15\n",
      "\u001b[1m1050/1050\u001b[0m \u001b[32m━━━━━━━━━━━━━━━━━━━━\u001b[0m\u001b[37m\u001b[0m \u001b[1m16s\u001b[0m 16ms/step - accuracy: 0.9928 - loss: 0.0245 - val_accuracy: 0.9827 - val_loss: 0.0518\n",
      "Epoch 5/15\n",
      "\u001b[1m1050/1050\u001b[0m \u001b[32m━━━━━━━━━━━━━━━━━━━━\u001b[0m\u001b[37m\u001b[0m \u001b[1m16s\u001b[0m 15ms/step - accuracy: 0.9945 - loss: 0.0179 - val_accuracy: 0.9829 - val_loss: 0.0539\n",
      "Epoch 6/15\n",
      "\u001b[1m1050/1050\u001b[0m \u001b[32m━━━━━━━━━━━━━━━━━━━━\u001b[0m\u001b[37m\u001b[0m \u001b[1m16s\u001b[0m 15ms/step - accuracy: 0.9966 - loss: 0.0117 - val_accuracy: 0.9837 - val_loss: 0.0590\n",
      "Epoch 7/15\n",
      "\u001b[1m1050/1050\u001b[0m \u001b[32m━━━━━━━━━━━━━━━━━━━━\u001b[0m\u001b[37m\u001b[0m \u001b[1m16s\u001b[0m 15ms/step - accuracy: 0.9974 - loss: 0.0085 - val_accuracy: 0.9804 - val_loss: 0.0729\n",
      "Epoch 8/15\n",
      "\u001b[1m1050/1050\u001b[0m \u001b[32m━━━━━━━━━━━━━━━━━━━━\u001b[0m\u001b[37m\u001b[0m \u001b[1m21s\u001b[0m 16ms/step - accuracy: 0.9977 - loss: 0.0069 - val_accuracy: 0.9832 - val_loss: 0.0598\n",
      "Epoch 9/15\n",
      "\u001b[1m1050/1050\u001b[0m \u001b[32m━━━━━━━━━━━━━━━━━━━━\u001b[0m\u001b[37m\u001b[0m \u001b[1m16s\u001b[0m 15ms/step - accuracy: 0.9990 - loss: 0.0040 - val_accuracy: 0.9810 - val_loss: 0.0787\n",
      "Epoch 10/15\n",
      "\u001b[1m1050/1050\u001b[0m \u001b[32m━━━━━━━━━━━━━━━━━━━━\u001b[0m\u001b[37m\u001b[0m \u001b[1m16s\u001b[0m 15ms/step - accuracy: 0.9979 - loss: 0.0067 - val_accuracy: 0.9836 - val_loss: 0.0641\n",
      "Epoch 11/15\n",
      "\u001b[1m1050/1050\u001b[0m \u001b[32m━━━━━━━━━━━━━━━━━━━━\u001b[0m\u001b[37m\u001b[0m \u001b[1m16s\u001b[0m 15ms/step - accuracy: 0.9991 - loss: 0.0032 - val_accuracy: 0.9831 - val_loss: 0.0717\n",
      "Epoch 12/15\n",
      "\u001b[1m1050/1050\u001b[0m \u001b[32m━━━━━━━━━━━━━━━━━━━━\u001b[0m\u001b[37m\u001b[0m \u001b[1m16s\u001b[0m 15ms/step - accuracy: 0.9994 - loss: 0.0028 - val_accuracy: 0.9827 - val_loss: 0.0745\n",
      "Epoch 13/15\n",
      "\u001b[1m1050/1050\u001b[0m \u001b[32m━━━━━━━━━━━━━━━━━━━━\u001b[0m\u001b[37m\u001b[0m \u001b[1m16s\u001b[0m 15ms/step - accuracy: 0.9997 - loss: 0.0014 - val_accuracy: 0.9835 - val_loss: 0.0764\n",
      "Epoch 14/15\n",
      "\u001b[1m1050/1050\u001b[0m \u001b[32m━━━━━━━━━━━━━━━━━━━━\u001b[0m\u001b[37m\u001b[0m \u001b[1m16s\u001b[0m 15ms/step - accuracy: 0.9983 - loss: 0.0046 - val_accuracy: 0.9848 - val_loss: 0.0718\n",
      "Epoch 15/15\n",
      "\u001b[1m1050/1050\u001b[0m \u001b[32m━━━━━━━━━━━━━━━━━━━━\u001b[0m\u001b[37m\u001b[0m \u001b[1m16s\u001b[0m 15ms/step - accuracy: 0.9997 - loss: 0.0013 - val_accuracy: 0.9812 - val_loss: 0.0825\n"
     ]
    }
   ],
   "source": [
    "history = model.fit(x_train, y_train, epochs = 15, validation_data = (x_test, y_test))"
   ]
  },
  {
   "cell_type": "code",
   "execution_count": 9,
   "id": "21f1ccf8",
   "metadata": {
    "execution": {
     "iopub.execute_input": "2024-07-27T13:49:51.455717Z",
     "iopub.status.busy": "2024-07-27T13:49:51.455283Z",
     "iopub.status.idle": "2024-07-27T13:49:56.269282Z",
     "shell.execute_reply": "2024-07-27T13:49:56.267927Z"
    },
    "papermill": {
     "duration": 5.221822,
     "end_time": "2024-07-27T13:49:56.272221",
     "exception": false,
     "start_time": "2024-07-27T13:49:51.050399",
     "status": "completed"
    },
    "tags": []
   },
   "outputs": [
    {
     "name": "stdout",
     "output_type": "stream",
     "text": [
      "\u001b[1m875/875\u001b[0m \u001b[32m━━━━━━━━━━━━━━━━━━━━\u001b[0m\u001b[37m\u001b[0m \u001b[1m4s\u001b[0m 5ms/step\n"
     ]
    }
   ],
   "source": [
    "y_pred = model.predict(test)\n"
   ]
  },
  {
   "cell_type": "code",
   "execution_count": 10,
   "id": "becfe2a6",
   "metadata": {
    "execution": {
     "iopub.execute_input": "2024-07-27T13:49:57.164686Z",
     "iopub.status.busy": "2024-07-27T13:49:57.164247Z",
     "iopub.status.idle": "2024-07-27T13:49:57.170527Z",
     "shell.execute_reply": "2024-07-27T13:49:57.169192Z"
    },
    "papermill": {
     "duration": 0.500215,
     "end_time": "2024-07-27T13:49:57.173071",
     "exception": false,
     "start_time": "2024-07-27T13:49:56.672856",
     "status": "completed"
    },
    "tags": []
   },
   "outputs": [],
   "source": [
    "sub = sample_sub.copy(deep=False)"
   ]
  },
  {
   "cell_type": "code",
   "execution_count": 11,
   "id": "ab694fe4",
   "metadata": {
    "execution": {
     "iopub.execute_input": "2024-07-27T13:49:57.992180Z",
     "iopub.status.busy": "2024-07-27T13:49:57.991101Z",
     "iopub.status.idle": "2024-07-27T13:49:58.000796Z",
     "shell.execute_reply": "2024-07-27T13:49:57.999412Z"
    },
    "papermill": {
     "duration": 0.421388,
     "end_time": "2024-07-27T13:49:58.003803",
     "exception": false,
     "start_time": "2024-07-27T13:49:57.582415",
     "status": "completed"
    },
    "tags": []
   },
   "outputs": [],
   "source": [
    "labels = np.argmax(y_pred, axis = 1)\n",
    "sub['Label'] = labels"
   ]
  },
  {
   "cell_type": "code",
   "execution_count": 12,
   "id": "02df1f3f",
   "metadata": {
    "execution": {
     "iopub.execute_input": "2024-07-27T13:49:58.820767Z",
     "iopub.status.busy": "2024-07-27T13:49:58.820335Z",
     "iopub.status.idle": "2024-07-27T13:49:58.833152Z",
     "shell.execute_reply": "2024-07-27T13:49:58.831873Z"
    },
    "papermill": {
     "duration": 0.425153,
     "end_time": "2024-07-27T13:49:58.835763",
     "exception": false,
     "start_time": "2024-07-27T13:49:58.410610",
     "status": "completed"
    },
    "tags": []
   },
   "outputs": [
    {
     "data": {
      "text/plain": [
       "array([2, 0, 9, 3, 7, 5, 4, 1, 6, 8])"
      ]
     },
     "execution_count": 12,
     "metadata": {},
     "output_type": "execute_result"
    }
   ],
   "source": [
    "sub['Label'].unique()"
   ]
  },
  {
   "cell_type": "code",
   "execution_count": 13,
   "id": "db841c03",
   "metadata": {
    "execution": {
     "iopub.execute_input": "2024-07-27T13:49:59.662144Z",
     "iopub.status.busy": "2024-07-27T13:49:59.661670Z",
     "iopub.status.idle": "2024-07-27T13:49:59.923367Z",
     "shell.execute_reply": "2024-07-27T13:49:59.922114Z"
    },
    "papermill": {
     "duration": 0.680802,
     "end_time": "2024-07-27T13:49:59.926076",
     "exception": false,
     "start_time": "2024-07-27T13:49:59.245274",
     "status": "completed"
    },
    "tags": []
   },
   "outputs": [
    {
     "data": {
      "text/plain": [
       "[<matplotlib.lines.Line2D at 0x7afecad206a0>]"
      ]
     },
     "execution_count": 13,
     "metadata": {},
     "output_type": "execute_result"
    },
    {
     "data": {
      "image/png": "[encoded data removed]",
      "text/plain": [
       "<Figure size 640x480 with 1 Axes>"
      ]
     },
     "metadata": {},
     "output_type": "display_data"
    }
   ],
   "source": [
    "import matplotlib.pyplot as plt\n",
    "plt.plot(history.history['accuracy'])"
   ]
  },
  {
   "cell_type": "code",
   "execution_count": 14,
   "id": "99201de5",
   "metadata": {
    "execution": {
     "iopub.execute_input": "2024-07-27T13:50:00.842143Z",
     "iopub.status.busy": "2024-07-27T13:50:00.841693Z",
     "iopub.status.idle": "2024-07-27T13:50:00.889611Z",
     "shell.execute_reply": "2024-07-27T13:50:00.888342Z"
    },
    "papermill": {
     "duration": 0.556264,
     "end_time": "2024-07-27T13:50:00.892552",
     "exception": false,
     "start_time": "2024-07-27T13:50:00.336288",
     "status": "completed"
    },
    "tags": []
   },
   "outputs": [],
   "source": [
    "sub.to_csv(\"submission.csv\", index=False)"
   ]
  },
  {
   "cell_type": "code",
   "execution_count": null,
   "id": "58feec9a",
   "metadata": {
    "papermill": {
     "duration": 0.409754,
     "end_time": "2024-07-27T13:50:01.716846",
     "exception": false,
     "start_time": "2024-07-27T13:50:01.307092",
     "status": "completed"
    },
    "tags": []
   },
   "outputs": [],
   "source": []
  }
 ],
 "metadata": {
  "kaggle": {
   "accelerator": "none",
   "dataSources": [
    {
     "databundleVersionId": 861823,
     "sourceId": 3004,
     "sourceType": "competition"
    }
   ],
   "dockerImageVersionId": 30746,
   "isGpuEnabled": false,
   "isInternetEnabled": true,
   "language": "python",
   "sourceType": "notebook"
  },
  "kernelspec": {
   "display_name": "Python 3",
   "language": "python",
   "name": "python3"
  },
  "language_info": {
   "codemirror_mode": {
    "name": "ipython",
    "version": 3
   },
   "file_extension": ".py",
   "mimetype": "text/x-python",
   "name": "python",
   "nbconvert_exporter": "python",
   "pygments_lexer": "ipython3",
   "version": "3.10.13"
  },
  "papermill": {
   "default_parameters": {},
   "duration": 290.581848,
   "end_time": "2024-07-27T13:50:04.928946",
   "environment_variables": {},
   "exception": null,
   "input_path": "__notebook__.ipynb",
   "output_path": "__notebook__.ipynb",
   "parameters": {},
   "start_time": "2024-07-27T13:45:14.347098",
   "version": "2.5.0"
  }
 },
 "nbformat": 4,
 "nbformat_minor": 5
}
